{
  "nbformat": 4,
  "nbformat_minor": 0,
  "metadata": {
    "colab": {
      "name": "Colab_OpenVINO_mobilenet-v1_quickstart.ipynb",
      "provenance": [],
      "collapsed_sections": []
    },
    "kernelspec": {
      "name": "python3",
      "display_name": "Python 3"
    }
  },
  "cells": [
    {
      "cell_type": "markdown",
      "metadata": {
        "id": "PUynAV9J1eRi",
        "colab_type": "text"
      },
      "source": [
        "# **Colab安裝OpenVINO並下載執行mobilenet-v1影像分類quickstart範例**\n",
        "\n",
        "範例提供：OmniXRI Jack 2020.9.10\n",
        "\n",
        "主要工作項目：\n",
        "\n",
        "1.   檢查系統\n",
        "2.   安裝OpenVINO工具包\n",
        "3.   模型下載\n",
        "4.   模型優化\n",
        "5.   執行推論\n",
        "\n",
        "參考範例來源：https://colab.research.google.com/drive/1-ETOSlDftRCkAW4FoBHGLgslfaRMRqBU"
      ]
    },
    {
      "cell_type": "markdown",
      "metadata": {
        "id": "_diohn2ldAJc",
        "colab_type": "text"
      },
      "source": [
        "# **0. 檢查系統**"
      ]
    },
    {
      "cell_type": "code",
      "metadata": {
        "id": "W2Evd4UedTyh",
        "colab_type": "code",
        "colab": {
          "base_uri": "https://localhost:8080/",
          "height": 453
        },
        "outputId": "5647dce9-54dd-4ac4-85ab-74ead6da1051"
      },
      "source": [
        "# 檢查CPU狀態\n",
        "# 預設會分配到 Intel Xeon CPU x64 2.2GHz 二顆\n",
        "# OpenVINO只支援虛擬機的Intel CPU Xeon，不支援虛擬機的Nvidia GPU或Google TPU\n",
        "!lscpu"
      ],
      "execution_count": 1,
      "outputs": [
        {
          "output_type": "stream",
          "text": [
            "Architecture:        x86_64\n",
            "CPU op-mode(s):      32-bit, 64-bit\n",
            "Byte Order:          Little Endian\n",
            "CPU(s):              2\n",
            "On-line CPU(s) list: 0,1\n",
            "Thread(s) per core:  2\n",
            "Core(s) per socket:  1\n",
            "Socket(s):           1\n",
            "NUMA node(s):        1\n",
            "Vendor ID:           GenuineIntel\n",
            "CPU family:          6\n",
            "Model:               79\n",
            "Model name:          Intel(R) Xeon(R) CPU @ 2.20GHz\n",
            "Stepping:            0\n",
            "CPU MHz:             2200.000\n",
            "BogoMIPS:            4400.00\n",
            "Hypervisor vendor:   KVM\n",
            "Virtualization type: full\n",
            "L1d cache:           32K\n",
            "L1i cache:           32K\n",
            "L2 cache:            256K\n",
            "L3 cache:            56320K\n",
            "NUMA node0 CPU(s):   0,1\n",
            "Flags:               fpu vme de pse tsc msr pae mce cx8 apic sep mtrr pge mca cmov pat pse36 clflush mmx fxsr sse sse2 ss ht syscall nx pdpe1gb rdtscp lm constant_tsc rep_good nopl xtopology nonstop_tsc cpuid tsc_known_freq pni pclmulqdq ssse3 fma cx16 pcid sse4_1 sse4_2 x2apic movbe popcnt aes xsave avx f16c rdrand hypervisor lahf_lm abm 3dnowprefetch invpcid_single ssbd ibrs ibpb stibp fsgsbase tsc_adjust bmi1 hle avx2 smep bmi2 erms invpcid rtm rdseed adx smap xsaveopt arat md_clear arch_capabilities\n"
          ],
          "name": "stdout"
        }
      ]
    },
    {
      "cell_type": "code",
      "metadata": {
        "id": "7gc99_HVdV-I",
        "colab_type": "code",
        "colab": {
          "base_uri": "https://localhost:8080/",
          "height": 225
        },
        "outputId": "3f81446a-42c6-4822-c1b5-da14811cb666"
      },
      "source": [
        "# 檢查作業系統狀態\n",
        "# 預設會分配到 Ubuntu 18.04.3 LTS版本\n",
        "!cat /etc/os-release"
      ],
      "execution_count": 2,
      "outputs": [
        {
          "output_type": "stream",
          "text": [
            "NAME=\"Ubuntu\"\n",
            "VERSION=\"18.04.3 LTS (Bionic Beaver)\"\n",
            "ID=ubuntu\n",
            "ID_LIKE=debian\n",
            "PRETTY_NAME=\"Ubuntu 18.04.3 LTS\"\n",
            "VERSION_ID=\"18.04\"\n",
            "HOME_URL=\"https://www.ubuntu.com/\"\n",
            "SUPPORT_URL=\"https://help.ubuntu.com/\"\n",
            "BUG_REPORT_URL=\"https://bugs.launchpad.net/ubuntu/\"\n",
            "PRIVACY_POLICY_URL=\"https://www.ubuntu.com/legal/terms-and-policies/privacy-policy\"\n",
            "VERSION_CODENAME=bionic\n",
            "UBUNTU_CODENAME=bionic\n"
          ],
          "name": "stdout"
        }
      ]
    },
    {
      "cell_type": "markdown",
      "metadata": {
        "id": "x-iMA0iIXMYt",
        "colab_type": "text"
      },
      "source": [
        "# **1. 安裝Intel OpenVINO工具包**"
      ]
    },
    {
      "cell_type": "code",
      "metadata": {
        "id": "3BPyuF_tMR5I",
        "colab_type": "code",
        "colab": {
          "base_uri": "https://localhost:8080/",
          "height": 208
        },
        "outputId": "e0017a49-b46a-4786-b837-4d473e48a6c8"
      },
      "source": [
        "# 取得OpenVINO2020公開金錀\n",
        "!wget https://apt.repos.intel.com/openvino/2020/GPG-PUB-KEY-INTEL-OPENVINO-2020"
      ],
      "execution_count": 3,
      "outputs": [
        {
          "output_type": "stream",
          "text": [
            "--2020-09-10 03:03:03--  https://apt.repos.intel.com/openvino/2020/GPG-PUB-KEY-INTEL-OPENVINO-2020\n",
            "Resolving apt.repos.intel.com (apt.repos.intel.com)... 104.90.255.179, 2600:1409:6800:186::4b23, 2600:1409:6800:18c::4b23\n",
            "Connecting to apt.repos.intel.com (apt.repos.intel.com)|104.90.255.179|:443... connected.\n",
            "HTTP request sent, awaiting response... 200 OK\n",
            "Length: 939 [binary/octet-stream]\n",
            "Saving to: ‘GPG-PUB-KEY-INTEL-OPENVINO-2020’\n",
            "\n",
            "GPG-PUB-KEY-INTEL-O 100%[===================>]     939  --.-KB/s    in 0s      \n",
            "\n",
            "2020-09-10 03:03:04 (10.4 MB/s) - ‘GPG-PUB-KEY-INTEL-OPENVINO-2020’ saved [939/939]\n",
            "\n"
          ],
          "name": "stdout"
        }
      ]
    },
    {
      "cell_type": "code",
      "metadata": {
        "id": "vqQ1evnXLWuq",
        "colab_type": "code",
        "colab": {
          "base_uri": "https://localhost:8080/",
          "height": 35
        },
        "outputId": "5f1f6066-887b-4588-f77f-f5b7af4437ed"
      },
      "source": [
        "# 加入OpenVINO公開金錀到系統金錀群中\n",
        "!apt-key add GPG-PUB-KEY-INTEL-OPENVINO-2020"
      ],
      "execution_count": 4,
      "outputs": [
        {
          "output_type": "stream",
          "text": [
            "OK\n"
          ],
          "name": "stdout"
        }
      ]
    },
    {
      "cell_type": "code",
      "metadata": {
        "id": "8YTK6yZYMjtJ",
        "colab_type": "code",
        "colab": {}
      },
      "source": [
        "# 建立更新安裝清單檔案\n",
        "!touch /etc/apt/sources.list.d/intel-openvino-2020.list"
      ],
      "execution_count": 5,
      "outputs": []
    },
    {
      "cell_type": "code",
      "metadata": {
        "id": "sjB2tPE5Mjv7",
        "colab_type": "code",
        "colab": {}
      },
      "source": [
        "# 將下載指令加入安裝清單中\n",
        "!echo \"deb https://apt.repos.intel.com/openvino/2020 all main\" >> /etc/apt/sources.list.d/intel-openvino-2020.list"
      ],
      "execution_count": 6,
      "outputs": []
    },
    {
      "cell_type": "code",
      "metadata": {
        "id": "p_Y0njq-MsoP",
        "colab_type": "code",
        "colab": {
          "base_uri": "https://localhost:8080/",
          "height": 589
        },
        "outputId": "40d64026-9730-4bc9-f20b-dc96e66af06e"
      },
      "source": [
        "# 更新系統\n",
        "!apt update"
      ],
      "execution_count": 7,
      "outputs": [
        {
          "output_type": "stream",
          "text": [
            "\u001b[33m\r0% [Working]\u001b[0m\r            \rGet:1 https://cloud.r-project.org/bin/linux/ubuntu bionic-cran35/ InRelease [3,626 B]\n",
            "\u001b[33m\r0% [Connecting to archive.ubuntu.com (91.189.88.142)] [Waiting for headers] [1 \u001b[0m\u001b[33m\r0% [Connecting to archive.ubuntu.com (91.189.88.142)] [Waiting for headers] [Wa\u001b[0m\r                                                                               \rIgn:2 https://developer.download.nvidia.com/compute/cuda/repos/ubuntu1804/x86_64  InRelease\n",
            "\r                                                                               \rGet:3 https://apt.repos.intel.com/openvino/2020 all InRelease [5,659 B]\n",
            "\u001b[33m\r0% [Connecting to archive.ubuntu.com (91.189.88.142)] [Waiting for headers] [Wa\u001b[0m\u001b[33m\r0% [1 InRelease gpgv 3,626 B] [Connecting to archive.ubuntu.com (91.189.88.142)\u001b[0m\r                                                                               \rIgn:4 https://developer.download.nvidia.com/compute/machine-learning/repos/ubuntu1804/x86_64  InRelease\n",
            "\u001b[33m\r0% [1 InRelease gpgv 3,626 B] [Connecting to archive.ubuntu.com (91.189.88.142)\u001b[0m\r                                                                               \rHit:5 https://developer.download.nvidia.com/compute/cuda/repos/ubuntu1804/x86_64  Release\n",
            "\u001b[33m\r0% [1 InRelease gpgv 3,626 B] [Connecting to archive.ubuntu.com (91.189.88.142)\u001b[0m\r                                                                               \rGet:6 http://security.ubuntu.com/ubuntu bionic-security InRelease [88.7 kB]\n",
            "\u001b[33m\r0% [1 InRelease gpgv 3,626 B] [Connecting to archive.ubuntu.com (91.189.88.142)\u001b[0m\r                                                                               \rGet:7 https://developer.download.nvidia.com/compute/machine-learning/repos/ubuntu1804/x86_64  Release [564 B]\n",
            "\u001b[33m\r0% [1 InRelease gpgv 3,626 B] [Connecting to archive.ubuntu.com (91.189.88.142)\u001b[0m\r                                                                               \rGet:8 https://developer.download.nvidia.com/compute/machine-learning/repos/ubuntu1804/x86_64  Release.gpg [833 B]\n",
            "Get:9 http://ppa.launchpad.net/graphics-drivers/ppa/ubuntu bionic InRelease [21.3 kB]\n",
            "Get:10 https://cloud.r-project.org/bin/linux/ubuntu bionic-cran35/ Packages [95.7 kB]\n",
            "Hit:11 http://archive.ubuntu.com/ubuntu bionic InRelease\n",
            "Get:12 http://archive.ubuntu.com/ubuntu bionic-updates InRelease [88.7 kB]\n",
            "Get:13 https://apt.repos.intel.com/openvino/2020 all/main all Packages [2,522 B]\n",
            "Get:14 https://apt.repos.intel.com/openvino/2020 all/main amd64 Packages [17.8 kB]\n",
            "Get:16 http://ppa.launchpad.net/marutter/c2d4u3.5/ubuntu bionic InRelease [15.4 kB]\n",
            "Get:17 https://developer.download.nvidia.com/compute/machine-learning/repos/ubuntu1804/x86_64  Packages [47.5 kB]\n",
            "Get:18 http://archive.ubuntu.com/ubuntu bionic-backports InRelease [74.6 kB]\n",
            "Get:19 http://security.ubuntu.com/ubuntu bionic-security/restricted amd64 Packages [116 kB]\n",
            "Get:20 http://security.ubuntu.com/ubuntu bionic-security/multiverse amd64 Packages [10.1 kB]\n",
            "Get:21 http://security.ubuntu.com/ubuntu bionic-security/main amd64 Packages [1,089 kB]\n",
            "Get:22 http://security.ubuntu.com/ubuntu bionic-security/universe amd64 Packages [897 kB]\n",
            "Get:23 http://ppa.launchpad.net/graphics-drivers/ppa/ubuntu bionic/main amd64 Packages [43.0 kB]\n",
            "Get:24 http://archive.ubuntu.com/ubuntu bionic-updates/multiverse amd64 Packages [27.7 kB]\n",
            "Get:25 http://ppa.launchpad.net/marutter/c2d4u3.5/ubuntu bionic/main Sources [1,864 kB]\n",
            "Get:26 http://archive.ubuntu.com/ubuntu bionic-updates/main amd64 Packages [1,384 kB]\n",
            "Get:27 http://archive.ubuntu.com/ubuntu bionic-updates/restricted amd64 Packages [132 kB]\n",
            "Get:28 http://archive.ubuntu.com/ubuntu bionic-updates/universe amd64 Packages [1,425 kB]\n",
            "Get:29 http://ppa.launchpad.net/marutter/c2d4u3.5/ubuntu bionic/main amd64 Packages [900 kB]\n",
            "Fetched 8,352 kB in 4s (1,859 kB/s)\n",
            "Reading package lists... Done\n",
            "Building dependency tree       \n",
            "Reading state information... Done\n",
            "74 packages can be upgraded. Run 'apt list --upgradable' to see them.\n"
          ],
          "name": "stdout"
        }
      ]
    },
    {
      "cell_type": "markdown",
      "metadata": {
        "id": "IJLw0IbBh8hj",
        "colab_type": "text"
      },
      "source": [
        "可利用 !apt-cache search openvino 指令搜尋可安裝的版本系統包，包含Runtime及Developer Packages"
      ]
    },
    {
      "cell_type": "code",
      "metadata": {
        "id": "6TdMkjTMMypN",
        "colab_type": "code",
        "colab": {
          "base_uri": "https://localhost:8080/",
          "height": 1000
        },
        "outputId": "70ba2354-fd20-4f70-91fc-07c1eadd0d53"
      },
      "source": [
        "# 安裝OpenVINO到虛擬機系統中\n",
        "!apt install intel-openvino-dev-ubuntu18-2020.4.287"
      ],
      "execution_count": 8,
      "outputs": [
        {
          "output_type": "stream",
          "text": [
            "Reading package lists... Done\n",
            "Building dependency tree       \n",
            "Reading state information... Done\n",
            "The following package was automatically installed and is no longer required:\n",
            "  libnvidia-common-440\n",
            "Use 'apt autoremove' to remove it.\n",
            "The following additional packages will be installed:\n",
            "  intel-openvino-dl-workbench-2020.4.287 intel-openvino-docs-2020.4.287\n",
            "  intel-openvino-eula-2020.4.287\n",
            "  intel-openvino-gstreamer-rt-ubuntu-bionic-2020.4.287\n",
            "  intel-openvino-gva-dev-ubuntu-bionic-2020.4.287\n",
            "  intel-openvino-gva-rt-ubuntu-bionic-2020.4.287\n",
            "  intel-openvino-gva-sdk-2020.4.287\n",
            "  intel-openvino-ie-bin-python-tools-ubuntu-bionic-2020.4.287\n",
            "  intel-openvino-ie-rt-2020.4.287\n",
            "  intel-openvino-ie-rt-core-ubuntu-bionic-2020.4.287\n",
            "  intel-openvino-ie-rt-cpu-ubuntu-bionic-2020.4.287\n",
            "  intel-openvino-ie-rt-gna-ubuntu-bionic-2020.4.287\n",
            "  intel-openvino-ie-rt-gpu-ubuntu-bionic-2020.4.287\n",
            "  intel-openvino-ie-rt-hddl-ubuntu-bionic-2020.4.287\n",
            "  intel-openvino-ie-rt-vpu-ubuntu-bionic-2020.4.287\n",
            "  intel-openvino-ie-samples-2020.4.287\n",
            "  intel-openvino-ie-sdk-ubuntu-bionic-2020.4.287\n",
            "  intel-openvino-model-optimizer-2020.4.287 intel-openvino-omz-dev-2020.4.287\n",
            "  intel-openvino-omz-tools-2020.4.287 intel-openvino-opencv-etc-2020.4.287\n",
            "  intel-openvino-opencv-generic-2020.4.287\n",
            "  intel-openvino-opencv-lib-ubuntu-bionic-2020.4.287\n",
            "  intel-openvino-pot-2020.4.287 intel-openvino-setupvars-2020.4.287\n",
            "The following NEW packages will be installed:\n",
            "  intel-openvino-dev-ubuntu18-2020.4.287\n",
            "  intel-openvino-dl-workbench-2020.4.287 intel-openvino-docs-2020.4.287\n",
            "  intel-openvino-eula-2020.4.287\n",
            "  intel-openvino-gstreamer-rt-ubuntu-bionic-2020.4.287\n",
            "  intel-openvino-gva-dev-ubuntu-bionic-2020.4.287\n",
            "  intel-openvino-gva-rt-ubuntu-bionic-2020.4.287\n",
            "  intel-openvino-gva-sdk-2020.4.287\n",
            "  intel-openvino-ie-bin-python-tools-ubuntu-bionic-2020.4.287\n",
            "  intel-openvino-ie-rt-2020.4.287\n",
            "  intel-openvino-ie-rt-core-ubuntu-bionic-2020.4.287\n",
            "  intel-openvino-ie-rt-cpu-ubuntu-bionic-2020.4.287\n",
            "  intel-openvino-ie-rt-gna-ubuntu-bionic-2020.4.287\n",
            "  intel-openvino-ie-rt-gpu-ubuntu-bionic-2020.4.287\n",
            "  intel-openvino-ie-rt-hddl-ubuntu-bionic-2020.4.287\n",
            "  intel-openvino-ie-rt-vpu-ubuntu-bionic-2020.4.287\n",
            "  intel-openvino-ie-samples-2020.4.287\n",
            "  intel-openvino-ie-sdk-ubuntu-bionic-2020.4.287\n",
            "  intel-openvino-model-optimizer-2020.4.287 intel-openvino-omz-dev-2020.4.287\n",
            "  intel-openvino-omz-tools-2020.4.287 intel-openvino-opencv-etc-2020.4.287\n",
            "  intel-openvino-opencv-generic-2020.4.287\n",
            "  intel-openvino-opencv-lib-ubuntu-bionic-2020.4.287\n",
            "  intel-openvino-pot-2020.4.287 intel-openvino-setupvars-2020.4.287\n",
            "0 upgraded, 26 newly installed, 0 to remove and 74 not upgraded.\n",
            "Need to get 178 MB of archives.\n",
            "After this operation, 0 B of additional disk space will be used.\n",
            "Get:1 https://apt.repos.intel.com/openvino/2020 all/main amd64 intel-openvino-eula-2020.4.287 all 2020.4-287 [99.9 kB]\n",
            "Get:2 https://apt.repos.intel.com/openvino/2020 all/main amd64 intel-openvino-setupvars-2020.4.287 all 2020.4-287 [6,870 B]\n",
            "Get:3 https://apt.repos.intel.com/openvino/2020 all/main amd64 intel-openvino-docs-2020.4.287 all 2020.4-287 [13.4 kB]\n",
            "Get:4 https://apt.repos.intel.com/openvino/2020 all/main amd64 intel-openvino-ie-samples-2020.4.287 amd64 2020.4-287 [2,475 kB]\n",
            "Get:5 https://apt.repos.intel.com/openvino/2020 all/main amd64 intel-openvino-model-optimizer-2020.4.287 amd64 2020.4-287 [437 kB]\n",
            "Get:6 https://apt.repos.intel.com/openvino/2020 all/main amd64 intel-openvino-ie-bin-python-tools-ubuntu-bionic-2020.4.287 amd64 2020.4-287 [19.4 kB]\n",
            "Get:7 https://apt.repos.intel.com/openvino/2020 all/main amd64 intel-openvino-ie-sdk-ubuntu-bionic-2020.4.287 amd64 2020.4-287 [682 kB]\n",
            "Get:8 https://apt.repos.intel.com/openvino/2020 all/main amd64 intel-openvino-ie-rt-2020.4.287 amd64 2020.4-287 [637 kB]\n",
            "Get:9 https://apt.repos.intel.com/openvino/2020 all/main amd64 intel-openvino-ie-rt-core-ubuntu-bionic-2020.4.287 amd64 2020.4-287 [6,621 kB]\n",
            "Get:10 https://apt.repos.intel.com/openvino/2020 all/main amd64 intel-openvino-ie-rt-cpu-ubuntu-bionic-2020.4.287 amd64 2020.4-287 [4,192 kB]\n",
            "Get:11 https://apt.repos.intel.com/openvino/2020 all/main amd64 intel-openvino-ie-rt-gpu-ubuntu-bionic-2020.4.287 amd64 2020.4-287 [2,201 kB]\n",
            "Get:12 https://apt.repos.intel.com/openvino/2020 all/main amd64 intel-openvino-ie-rt-gna-ubuntu-bionic-2020.4.287 amd64 2020.4-287 [1,034 kB]\n",
            "Get:13 https://apt.repos.intel.com/openvino/2020 all/main amd64 intel-openvino-ie-rt-vpu-ubuntu-bionic-2020.4.287 amd64 2020.4-287 [20.4 MB]\n",
            "Get:14 https://apt.repos.intel.com/openvino/2020 all/main amd64 intel-openvino-ie-rt-hddl-ubuntu-bionic-2020.4.287 amd64 2020.4-287 [3,076 kB]\n",
            "Get:15 https://apt.repos.intel.com/openvino/2020 all/main amd64 intel-openvino-opencv-generic-2020.4.287 all 2020.4-287 [710 kB]\n",
            "Get:16 https://apt.repos.intel.com/openvino/2020 all/main amd64 intel-openvino-opencv-lib-ubuntu-bionic-2020.4.287 amd64 2020.4-287 [16.2 MB]\n",
            "Get:17 https://apt.repos.intel.com/openvino/2020 all/main amd64 intel-openvino-opencv-etc-2020.4.287 all 2020.4-287 [1,209 kB]\n",
            "Get:18 https://apt.repos.intel.com/openvino/2020 all/main amd64 intel-openvino-omz-dev-2020.4.287 amd64 2020.4-287 [32.6 MB]\n",
            "Get:19 https://apt.repos.intel.com/openvino/2020 all/main amd64 intel-openvino-omz-tools-2020.4.287 amd64 2020.4-287 [952 kB]\n",
            "Get:20 https://apt.repos.intel.com/openvino/2020 all/main amd64 intel-openvino-dl-workbench-2020.4.287 amd64 2020.4-287 [1,044 kB]\n",
            "Get:21 https://apt.repos.intel.com/openvino/2020 all/main amd64 intel-openvino-gva-sdk-2020.4.287 amd64 2020.4-287 [18.7 kB]\n",
            "Get:22 https://apt.repos.intel.com/openvino/2020 all/main amd64 intel-openvino-gva-dev-ubuntu-bionic-2020.4.287 amd64 2020.4-287 [5,446 kB]\n",
            "Get:23 https://apt.repos.intel.com/openvino/2020 all/main amd64 intel-openvino-gstreamer-rt-ubuntu-bionic-2020.4.287 amd64 2020.4-287 [76.4 MB]\n",
            "Get:24 https://apt.repos.intel.com/openvino/2020 all/main amd64 intel-openvino-gva-rt-ubuntu-bionic-2020.4.287 amd64 2020.4-287 [832 kB]\n",
            "Get:25 https://apt.repos.intel.com/openvino/2020 all/main amd64 intel-openvino-pot-2020.4.287 amd64 2020.4-287 [429 kB]\n",
            "Get:26 https://apt.repos.intel.com/openvino/2020 all/main amd64 intel-openvino-dev-ubuntu18-2020.4.287 amd64 2020.4-287 [1,830 B]\n",
            "Fetched 178 MB in 3s (63.8 MB/s)\n",
            "Selecting previously unselected package intel-openvino-eula-2020.4.287.\n",
            "(Reading database ... 144579 files and directories currently installed.)\n",
            "Preparing to unpack .../00-intel-openvino-eula-2020.4.287_2020.4-287_all.deb ...\n",
            "Unpacking intel-openvino-eula-2020.4.287 (2020.4-287) ...\n",
            "Selecting previously unselected package intel-openvino-setupvars-2020.4.287.\n",
            "Preparing to unpack .../01-intel-openvino-setupvars-2020.4.287_2020.4-287_all.deb ...\n",
            "Unpacking intel-openvino-setupvars-2020.4.287 (2020.4-287) ...\n",
            "Selecting previously unselected package intel-openvino-docs-2020.4.287.\n",
            "Preparing to unpack .../02-intel-openvino-docs-2020.4.287_2020.4-287_all.deb ...\n",
            "Unpacking intel-openvino-docs-2020.4.287 (2020.4-287) ...\n",
            "Selecting previously unselected package intel-openvino-ie-samples-2020.4.287:amd64.\n",
            "Preparing to unpack .../03-intel-openvino-ie-samples-2020.4.287_2020.4-287_amd64.deb ...\n",
            "Unpacking intel-openvino-ie-samples-2020.4.287:amd64 (2020.4-287) ...\n",
            "Selecting previously unselected package intel-openvino-model-optimizer-2020.4.287:amd64.\n",
            "Preparing to unpack .../04-intel-openvino-model-optimizer-2020.4.287_2020.4-287_amd64.deb ...\n",
            "Unpacking intel-openvino-model-optimizer-2020.4.287:amd64 (2020.4-287) ...\n",
            "Selecting previously unselected package intel-openvino-ie-bin-python-tools-ubuntu-bionic-2020.4.287:amd64.\n",
            "Preparing to unpack .../05-intel-openvino-ie-bin-python-tools-ubuntu-bionic-2020.4.287_2020.4-287_amd64.deb ...\n",
            "Unpacking intel-openvino-ie-bin-python-tools-ubuntu-bionic-2020.4.287:amd64 (2020.4-287) ...\n",
            "Selecting previously unselected package intel-openvino-ie-sdk-ubuntu-bionic-2020.4.287:amd64.\n",
            "Preparing to unpack .../06-intel-openvino-ie-sdk-ubuntu-bionic-2020.4.287_2020.4-287_amd64.deb ...\n",
            "Unpacking intel-openvino-ie-sdk-ubuntu-bionic-2020.4.287:amd64 (2020.4-287) ...\n",
            "Selecting previously unselected package intel-openvino-ie-rt-2020.4.287:amd64.\n",
            "Preparing to unpack .../07-intel-openvino-ie-rt-2020.4.287_2020.4-287_amd64.deb ...\n",
            "Unpacking intel-openvino-ie-rt-2020.4.287:amd64 (2020.4-287) ...\n",
            "Selecting previously unselected package intel-openvino-ie-rt-core-ubuntu-bionic-2020.4.287:amd64.\n",
            "Preparing to unpack .../08-intel-openvino-ie-rt-core-ubuntu-bionic-2020.4.287_2020.4-287_amd64.deb ...\n",
            "Unpacking intel-openvino-ie-rt-core-ubuntu-bionic-2020.4.287:amd64 (2020.4-287) ...\n",
            "Selecting previously unselected package intel-openvino-ie-rt-cpu-ubuntu-bionic-2020.4.287:amd64.\n",
            "Preparing to unpack .../09-intel-openvino-ie-rt-cpu-ubuntu-bionic-2020.4.287_2020.4-287_amd64.deb ...\n",
            "Unpacking intel-openvino-ie-rt-cpu-ubuntu-bionic-2020.4.287:amd64 (2020.4-287) ...\n",
            "Selecting previously unselected package intel-openvino-ie-rt-gpu-ubuntu-bionic-2020.4.287:amd64.\n",
            "Preparing to unpack .../10-intel-openvino-ie-rt-gpu-ubuntu-bionic-2020.4.287_2020.4-287_amd64.deb ...\n",
            "Unpacking intel-openvino-ie-rt-gpu-ubuntu-bionic-2020.4.287:amd64 (2020.4-287) ...\n",
            "Selecting previously unselected package intel-openvino-ie-rt-gna-ubuntu-bionic-2020.4.287:amd64.\n",
            "Preparing to unpack .../11-intel-openvino-ie-rt-gna-ubuntu-bionic-2020.4.287_2020.4-287_amd64.deb ...\n",
            "Unpacking intel-openvino-ie-rt-gna-ubuntu-bionic-2020.4.287:amd64 (2020.4-287) ...\n",
            "Selecting previously unselected package intel-openvino-ie-rt-vpu-ubuntu-bionic-2020.4.287:amd64.\n",
            "Preparing to unpack .../12-intel-openvino-ie-rt-vpu-ubuntu-bionic-2020.4.287_2020.4-287_amd64.deb ...\n",
            "Unpacking intel-openvino-ie-rt-vpu-ubuntu-bionic-2020.4.287:amd64 (2020.4-287) ...\n",
            "Selecting previously unselected package intel-openvino-ie-rt-hddl-ubuntu-bionic-2020.4.287:amd64.\n",
            "Preparing to unpack .../13-intel-openvino-ie-rt-hddl-ubuntu-bionic-2020.4.287_2020.4-287_amd64.deb ...\n",
            "Unpacking intel-openvino-ie-rt-hddl-ubuntu-bionic-2020.4.287:amd64 (2020.4-287) ...\n",
            "Selecting previously unselected package intel-openvino-opencv-generic-2020.4.287.\n",
            "Preparing to unpack .../14-intel-openvino-opencv-generic-2020.4.287_2020.4-287_all.deb ...\n",
            "Unpacking intel-openvino-opencv-generic-2020.4.287 (2020.4-287) ...\n",
            "Selecting previously unselected package intel-openvino-opencv-lib-ubuntu-bionic-2020.4.287:amd64.\n",
            "Preparing to unpack .../15-intel-openvino-opencv-lib-ubuntu-bionic-2020.4.287_2020.4-287_amd64.deb ...\n",
            "Unpacking intel-openvino-opencv-lib-ubuntu-bionic-2020.4.287:amd64 (2020.4-287) ...\n",
            "Selecting previously unselected package intel-openvino-opencv-etc-2020.4.287.\n",
            "Preparing to unpack .../16-intel-openvino-opencv-etc-2020.4.287_2020.4-287_all.deb ...\n",
            "Unpacking intel-openvino-opencv-etc-2020.4.287 (2020.4-287) ...\n",
            "Selecting previously unselected package intel-openvino-omz-dev-2020.4.287:amd64.\n",
            "Preparing to unpack .../17-intel-openvino-omz-dev-2020.4.287_2020.4-287_amd64.deb ...\n",
            "Unpacking intel-openvino-omz-dev-2020.4.287:amd64 (2020.4-287) ...\n",
            "Selecting previously unselected package intel-openvino-omz-tools-2020.4.287:amd64.\n",
            "Preparing to unpack .../18-intel-openvino-omz-tools-2020.4.287_2020.4-287_amd64.deb ...\n",
            "Unpacking intel-openvino-omz-tools-2020.4.287:amd64 (2020.4-287) ...\n",
            "Selecting previously unselected package intel-openvino-dl-workbench-2020.4.287:amd64.\n",
            "Preparing to unpack .../19-intel-openvino-dl-workbench-2020.4.287_2020.4-287_amd64.deb ...\n",
            "Unpacking intel-openvino-dl-workbench-2020.4.287:amd64 (2020.4-287) ...\n",
            "Selecting previously unselected package intel-openvino-gva-sdk-2020.4.287:amd64.\n",
            "Preparing to unpack .../20-intel-openvino-gva-sdk-2020.4.287_2020.4-287_amd64.deb ...\n",
            "Unpacking intel-openvino-gva-sdk-2020.4.287:amd64 (2020.4-287) ...\n",
            "Selecting previously unselected package intel-openvino-gva-dev-ubuntu-bionic-2020.4.287:amd64.\n",
            "Preparing to unpack .../21-intel-openvino-gva-dev-ubuntu-bionic-2020.4.287_2020.4-287_amd64.deb ...\n",
            "Unpacking intel-openvino-gva-dev-ubuntu-bionic-2020.4.287:amd64 (2020.4-287) ...\n",
            "Selecting previously unselected package intel-openvino-gstreamer-rt-ubuntu-bionic-2020.4.287:amd64.\n",
            "Preparing to unpack .../22-intel-openvino-gstreamer-rt-ubuntu-bionic-2020.4.287_2020.4-287_amd64.deb ...\n",
            "Unpacking intel-openvino-gstreamer-rt-ubuntu-bionic-2020.4.287:amd64 (2020.4-287) ...\n",
            "Selecting previously unselected package intel-openvino-gva-rt-ubuntu-bionic-2020.4.287:amd64.\n",
            "Preparing to unpack .../23-intel-openvino-gva-rt-ubuntu-bionic-2020.4.287_2020.4-287_amd64.deb ...\n",
            "Unpacking intel-openvino-gva-rt-ubuntu-bionic-2020.4.287:amd64 (2020.4-287) ...\n",
            "Selecting previously unselected package intel-openvino-pot-2020.4.287:amd64.\n",
            "Preparing to unpack .../24-intel-openvino-pot-2020.4.287_2020.4-287_amd64.deb ...\n",
            "Unpacking intel-openvino-pot-2020.4.287:amd64 (2020.4-287) ...\n",
            "Selecting previously unselected package intel-openvino-dev-ubuntu18-2020.4.287:amd64.\n",
            "Preparing to unpack .../25-intel-openvino-dev-ubuntu18-2020.4.287_2020.4-287_amd64.deb ...\n",
            "Unpacking intel-openvino-dev-ubuntu18-2020.4.287:amd64 (2020.4-287) ...\n",
            "Setting up intel-openvino-pot-2020.4.287:amd64 (2020.4-287) ...\n",
            "Setting up intel-openvino-setupvars-2020.4.287 (2020.4-287) ...\n",
            "Setting up intel-openvino-opencv-generic-2020.4.287 (2020.4-287) ...\n",
            "Setting up intel-openvino-gva-sdk-2020.4.287:amd64 (2020.4-287) ...\n",
            "Setting up intel-openvino-omz-tools-2020.4.287:amd64 (2020.4-287) ...\n",
            "Setting up intel-openvino-dl-workbench-2020.4.287:amd64 (2020.4-287) ...\n",
            "Setting up intel-openvino-opencv-etc-2020.4.287 (2020.4-287) ...\n",
            "Setting up intel-openvino-eula-2020.4.287 (2020.4-287) ...\n",
            "Setting up intel-openvino-docs-2020.4.287 (2020.4-287) ...\n",
            "Setting up intel-openvino-gva-rt-ubuntu-bionic-2020.4.287:amd64 (2020.4-287) ...\n",
            "Setting up intel-openvino-ie-rt-2020.4.287:amd64 (2020.4-287) ...\n",
            "Setting up intel-openvino-ie-samples-2020.4.287:amd64 (2020.4-287) ...\n",
            "Setting up intel-openvino-gstreamer-rt-ubuntu-bionic-2020.4.287:amd64 (2020.4-287) ...\n",
            "Setting up intel-openvino-ie-bin-python-tools-ubuntu-bionic-2020.4.287:amd64 (2020.4-287) ...\n",
            "Setting up intel-openvino-ie-sdk-ubuntu-bionic-2020.4.287:amd64 (2020.4-287) ...\n",
            "Setting up intel-openvino-gva-dev-ubuntu-bionic-2020.4.287:amd64 (2020.4-287) ...\n",
            "Setting up intel-openvino-omz-dev-2020.4.287:amd64 (2020.4-287) ...\n",
            "Setting up intel-openvino-model-optimizer-2020.4.287:amd64 (2020.4-287) ...\n",
            "Setting up intel-openvino-opencv-lib-ubuntu-bionic-2020.4.287:amd64 (2020.4-287) ...\n",
            "Setting up intel-openvino-ie-rt-core-ubuntu-bionic-2020.4.287:amd64 (2020.4-287) ...\n",
            "Setting up intel-openvino-ie-rt-gna-ubuntu-bionic-2020.4.287:amd64 (2020.4-287) ...\n",
            "Setting up intel-openvino-ie-rt-cpu-ubuntu-bionic-2020.4.287:amd64 (2020.4-287) ...\n",
            "Setting up intel-openvino-ie-rt-gpu-ubuntu-bionic-2020.4.287:amd64 (2020.4-287) ...\n",
            "Setting up intel-openvino-ie-rt-hddl-ubuntu-bionic-2020.4.287:amd64 (2020.4-287) ...\n",
            "Setting up intel-openvino-ie-rt-vpu-ubuntu-bionic-2020.4.287:amd64 (2020.4-287) ...\n",
            "Setting up intel-openvino-dev-ubuntu18-2020.4.287:amd64 (2020.4-287) ...\n"
          ],
          "name": "stdout"
        }
      ]
    },
    {
      "cell_type": "code",
      "metadata": {
        "id": "Y_wMT5onL-qY",
        "colab_type": "code",
        "colab": {
          "base_uri": "https://localhost:8080/",
          "height": 35
        },
        "outputId": "2fd6a2c7-7028-4015-db8d-52907df174ff"
      },
      "source": [
        "# 列出安裝路徑下內容\n",
        "!ls /opt/intel"
      ],
      "execution_count": 9,
      "outputs": [
        {
          "output_type": "stream",
          "text": [
            "openvino  openvino_2020.4.287\n"
          ],
          "name": "stdout"
        }
      ]
    },
    {
      "cell_type": "markdown",
      "metadata": {
        "id": "OVt2eeaeRZ98",
        "colab_type": "text"
      },
      "source": [
        "# **2. 模型下載**"
      ]
    },
    {
      "cell_type": "code",
      "metadata": {
        "id": "0CB7jHlWhJ_c",
        "colab_type": "code",
        "colab": {
          "base_uri": "https://localhost:8080/",
          "height": 208
        },
        "outputId": "5deeb63f-b3ce-41e6-c437-1f2ec179611e"
      },
      "source": [
        "# 執行環境設定批次檔並以模型下載器取得mobilenet-v1-1.0-224\n",
        "# 可以用 --name 取得OpenVINO提供之任意指定模型名稱\n",
        "!source /opt/intel/openvino/bin/setupvars.sh && \\\n",
        "python /opt/intel/openvino/deployment_tools/tools/model_downloader/downloader.py \\\n",
        "--name mobilenet-v1-1.0-224"
      ],
      "execution_count": 10,
      "outputs": [
        {
          "output_type": "stream",
          "text": [
            "[setupvars.sh] OpenVINO environment initialized\n",
            "################|| Downloading models ||################\n",
            "\n",
            "========== Downloading /content/public/mobilenet-v1-1.0-224/mobilenet-v1-1.0-224.prototxt\n",
            "... 100%, 27 KB, 76296 KB/s, 0 seconds passed\n",
            "\n",
            "========== Downloading /content/public/mobilenet-v1-1.0-224/mobilenet-v1-1.0-224.caffemodel\n",
            "... 100%, 16627 KB, 51520 KB/s, 0 seconds passed\n",
            "\n",
            "################|| Post-processing ||################\n",
            "\n"
          ],
          "name": "stdout"
        }
      ]
    },
    {
      "cell_type": "markdown",
      "metadata": {
        "id": "hptfdelFy65V",
        "colab_type": "text"
      },
      "source": [
        "# **3. 模型優化**"
      ]
    },
    {
      "cell_type": "code",
      "metadata": {
        "id": "ui7toGLHz9Zk",
        "colab_type": "code",
        "colab": {
          "base_uri": "https://localhost:8080/",
          "height": 124
        },
        "outputId": "6871bdda-0b11-4848-8b19-754f8fd750cf"
      },
      "source": [
        "# 下載及安裝test-generator 方便檢查程式運行錯誤\n",
        "!pip install test-generator==0.1.1"
      ],
      "execution_count": 11,
      "outputs": [
        {
          "output_type": "stream",
          "text": [
            "Collecting test-generator==0.1.1\n",
            "  Downloading https://files.pythonhosted.org/packages/4a/52/e5eec4d926eb466844eaeeaac84af5372e946dd520fb2b6adf3388e620b0/test_generator-0.1.1-py2.py3-none-any.whl\n",
            "Requirement already satisfied: six in /usr/local/lib/python3.6/dist-packages (from test-generator==0.1.1) (1.15.0)\n",
            "Installing collected packages: test-generator\n",
            "Successfully installed test-generator-0.1.1\n"
          ],
          "name": "stdout"
        }
      ]
    },
    {
      "cell_type": "code",
      "metadata": {
        "id": "imkMcaQYz-Tb",
        "colab_type": "code",
        "colab": {
          "base_uri": "https://localhost:8080/",
          "height": 1000
        },
        "outputId": "bf1a3096-e2f6-430b-c8c2-992332c360cd"
      },
      "source": [
        "# 執行環境設定批次檔並將下載到的mobilenet-v1-1.0-224模型檔進行優化轉換產生IR(xml & bin)檔\n",
        "# 可以用 --name 指定下載到模型名稱\n",
        "!source /opt/intel/openvino/bin/setupvars.sh && \\\n",
        "python /opt/intel/openvino/deployment_tools/tools/model_downloader/converter.py \\\n",
        "--name mobilenet-v1-1.0-224"
      ],
      "execution_count": 12,
      "outputs": [
        {
          "output_type": "stream",
          "text": [
            "[setupvars.sh] OpenVINO environment initialized\n",
            "========== Converting mobilenet-v1-1.0-224 to IR (FP16)\n",
            "Conversion command: /usr/bin/python3 -- /opt/intel/openvino_2020.4.287/deployment_tools/model_optimizer/mo.py --framework=caffe --data_type=FP16 --output_dir=/content/public/mobilenet-v1-1.0-224/FP16 --model_name=mobilenet-v1-1.0-224 '--input_shape=[1,3,224,224]' --input=data '--mean_values=data[103.94,116.78,123.68]' '--scale_values=data[58.8235294117647]' --output=prob --input_model=/content/public/mobilenet-v1-1.0-224/mobilenet-v1-1.0-224.caffemodel --input_proto=/content/public/mobilenet-v1-1.0-224/mobilenet-v1-1.0-224.prototxt\n",
            "\n",
            "Model Optimizer arguments:\n",
            "Common parameters:\n",
            "\t- Path to the Input Model: \t/content/public/mobilenet-v1-1.0-224/mobilenet-v1-1.0-224.caffemodel\n",
            "\t- Path for generated IR: \t/content/public/mobilenet-v1-1.0-224/FP16\n",
            "\t- IR output name: \tmobilenet-v1-1.0-224\n",
            "\t- Log level: \tERROR\n",
            "\t- Batch: \tNot specified, inherited from the model\n",
            "\t- Input layers: \tdata\n",
            "\t- Output layers: \tprob\n",
            "\t- Input shapes: \t[1,3,224,224]\n",
            "\t- Mean values: \tdata[103.94,116.78,123.68]\n",
            "\t- Scale values: \tdata[58.8235294117647]\n",
            "\t- Scale factor: \tNot specified\n",
            "\t- Precision of IR: \tFP16\n",
            "\t- Enable fusing: \tTrue\n",
            "\t- Enable grouped convolutions fusing: \tTrue\n",
            "\t- Move mean values to preprocess section: \tFalse\n",
            "\t- Reverse input channels: \tFalse\n",
            "Caffe specific parameters:\n",
            "\t- Path to Python Caffe* parser generated from caffe.proto: \t/opt/intel/openvino_2020.4.287/deployment_tools/model_optimizer/mo/front/caffe/proto\n",
            "\t- Enable resnet optimization: \tTrue\n",
            "\t- Path to the Input prototxt: \t/content/public/mobilenet-v1-1.0-224/mobilenet-v1-1.0-224.prototxt\n",
            "\t- Path to CustomLayersMapping.xml: \tDefault\n",
            "\t- Path to a mean file: \tNot specified\n",
            "\t- Offsets for a mean file: \tNot specified\n",
            "Model Optimizer version: \t\n",
            "\n",
            "[ SUCCESS ] Generated IR version 10 model.\n",
            "[ SUCCESS ] XML file: /content/public/mobilenet-v1-1.0-224/FP16/mobilenet-v1-1.0-224.xml\n",
            "[ SUCCESS ] BIN file: /content/public/mobilenet-v1-1.0-224/FP16/mobilenet-v1-1.0-224.bin\n",
            "[ SUCCESS ] Total execution time: 9.56 seconds. \n",
            "[ SUCCESS ] Memory consumed: 177 MB. \n",
            "\n",
            "========== Converting mobilenet-v1-1.0-224 to IR (FP32)\n",
            "Conversion command: /usr/bin/python3 -- /opt/intel/openvino_2020.4.287/deployment_tools/model_optimizer/mo.py --framework=caffe --data_type=FP32 --output_dir=/content/public/mobilenet-v1-1.0-224/FP32 --model_name=mobilenet-v1-1.0-224 '--input_shape=[1,3,224,224]' --input=data '--mean_values=data[103.94,116.78,123.68]' '--scale_values=data[58.8235294117647]' --output=prob --input_model=/content/public/mobilenet-v1-1.0-224/mobilenet-v1-1.0-224.caffemodel --input_proto=/content/public/mobilenet-v1-1.0-224/mobilenet-v1-1.0-224.prototxt\n",
            "\n",
            "Model Optimizer arguments:\n",
            "Common parameters:\n",
            "\t- Path to the Input Model: \t/content/public/mobilenet-v1-1.0-224/mobilenet-v1-1.0-224.caffemodel\n",
            "\t- Path for generated IR: \t/content/public/mobilenet-v1-1.0-224/FP32\n",
            "\t- IR output name: \tmobilenet-v1-1.0-224\n",
            "\t- Log level: \tERROR\n",
            "\t- Batch: \tNot specified, inherited from the model\n",
            "\t- Input layers: \tdata\n",
            "\t- Output layers: \tprob\n",
            "\t- Input shapes: \t[1,3,224,224]\n",
            "\t- Mean values: \tdata[103.94,116.78,123.68]\n",
            "\t- Scale values: \tdata[58.8235294117647]\n",
            "\t- Scale factor: \tNot specified\n",
            "\t- Precision of IR: \tFP32\n",
            "\t- Enable fusing: \tTrue\n",
            "\t- Enable grouped convolutions fusing: \tTrue\n",
            "\t- Move mean values to preprocess section: \tFalse\n",
            "\t- Reverse input channels: \tFalse\n",
            "Caffe specific parameters:\n",
            "\t- Path to Python Caffe* parser generated from caffe.proto: \t/opt/intel/openvino_2020.4.287/deployment_tools/model_optimizer/mo/front/caffe/proto\n",
            "\t- Enable resnet optimization: \tTrue\n",
            "\t- Path to the Input prototxt: \t/content/public/mobilenet-v1-1.0-224/mobilenet-v1-1.0-224.prototxt\n",
            "\t- Path to CustomLayersMapping.xml: \tDefault\n",
            "\t- Path to a mean file: \tNot specified\n",
            "\t- Offsets for a mean file: \tNot specified\n",
            "Model Optimizer version: \t\n",
            "\n",
            "[ SUCCESS ] Generated IR version 10 model.\n",
            "[ SUCCESS ] XML file: /content/public/mobilenet-v1-1.0-224/FP32/mobilenet-v1-1.0-224.xml\n",
            "[ SUCCESS ] BIN file: /content/public/mobilenet-v1-1.0-224/FP32/mobilenet-v1-1.0-224.bin\n",
            "[ SUCCESS ] Total execution time: 9.29 seconds. \n",
            "[ SUCCESS ] Memory consumed: 174 MB. \n",
            "\n"
          ],
          "name": "stdout"
        }
      ]
    },
    {
      "cell_type": "markdown",
      "metadata": {
        "id": "izJpllcrzh1F",
        "colab_type": "text"
      },
      "source": [
        "# **4. 執行推論**"
      ]
    },
    {
      "cell_type": "code",
      "metadata": {
        "id": "s-y9DTUj0M07",
        "colab_type": "code",
        "colab": {
          "base_uri": "https://localhost:8080/",
          "height": 179
        },
        "outputId": "4a6cfcee-b53e-47b1-a9d3-6ac2f4aa3005"
      },
      "source": [
        "# 以OpenCV檢視輸入影像\n",
        "import cv2\n",
        "import matplotlib.pyplot as plt\n",
        "\n",
        "img = cv2.imread('/opt/intel/openvino/deployment_tools/demo/car.png') # 讀入指定彩色影像\n",
        "rgb = cv2.cvtColor(img, cv2.COLOR_BGR2RGB) # 將影像從BGR格式轉到RGB格式，才能讓plt.imshow()正確顯示\n",
        "plt.figure() # 準備一顯示影像空間\n",
        "plt.imshow(rgb) # 顯示影像"
      ],
      "execution_count": 13,
      "outputs": [
        {
          "output_type": "execute_result",
          "data": {
            "text/plain": [
              "<matplotlib.image.AxesImage at 0x7f4c5e88db38>"
            ]
          },
          "metadata": {
            "tags": []
          },
          "execution_count": 13
        },
        {
          "output_type": "display_data",
          "data": {
            "image/png": "[encoded data removed]",
            "text/plain": [
              "<Figure size 432x288 with 1 Axes>"
            ]
          },
          "metadata": {
            "tags": [],
            "needs_background": "light"
          }
        }
      ]
    },
    {
      "cell_type": "code",
      "metadata": {
        "id": "z1Jcv-D39E2G",
        "colab_type": "code",
        "colab": {}
      },
      "source": [
        "# 建立quticstart.py範例程式\n",
        "!touch /content/quickstart.py && rm /content/quickstart.py && touch /content/quickstart.py && \\\n",
        "echo \"import cv2\" >> /content/quickstart.py && \\\n",
        "echo \"import numpy as np\" >> /content/quickstart.py && \\\n",
        "echo \"from openvino.inference_engine import IENetwork, IECore\" >> /content/quickstart.py && \\\n",
        "echo \"ie = IECore()\"  >> /content/quickstart.py && \\\n",
        "echo \"net = IENetwork(model='/content/public/mobilenet-v1-1.0-224/FP16/mobilenet-v1-1.0-224.xml', weights='/content/public/mobilenet-v1-1.0-224/FP16/mobilenet-v1-1.0-224.bin')\" >> /content/quickstart.py && \\\n",
        "echo \"input_blob = next(iter(net.inputs))\" >> /content/quickstart.py && \\\n",
        "echo \"out_blob = next(iter(net.outputs))\" >> /content/quickstart.py && \\\n",
        "echo \"batch,channel,height,width  = net.inputs[input_blob].shape\" >> /content/quickstart.py && \\\n",
        "echo \"image = cv2.imread('/opt/intel/openvino/deployment_tools/demo/car.png')\" >> /content/quickstart.py && \\\n",
        "echo \"#cv2.imshow(\"input\", image)\" >> /content/quickstart.py && \\\n",
        "echo \"image = cv2.resize(image, (width, height))\" >> /content/quickstart.py && \\\n",
        "echo \"image = image.transpose((2, 0, 1))  # Change data layout from HWC to CHW\" >> /content/quickstart.py && \\\n",
        "echo \"exec_net = ie.load_network(network=net, device_name='CPU')\" >> /content/quickstart.py && \\\n",
        "echo \"res = exec_net.infer(inputs={input_blob: image})\" >> /content/quickstart.py && \\\n",
        "echo \"idx = np.argsort(np.squeeze(res[out_blob][0]))[::-1]\" >> /content/quickstart.py && \\\n",
        "echo \"for i in range(5):\" >> /content/quickstart.py && \\\n",
        "echo \" print(idx[i]+1, res[out_blob][0][idx[i]])\" >> /content/quickstart.py"
      ],
      "execution_count": 14,
      "outputs": []
    },
    {
      "cell_type": "code",
      "metadata": {
        "id": "bxPkH4rj9Ujm",
        "colab_type": "code",
        "colab": {
          "base_uri": "https://localhost:8080/",
          "height": 332
        },
        "outputId": "1b30e289-5ee2-4a3e-c5ec-b2187451021d"
      },
      "source": [
        "# 檢視quickstart.py程式碼\n",
        "!cat /content/quickstart.py"
      ],
      "execution_count": 15,
      "outputs": [
        {
          "output_type": "stream",
          "text": [
            "import cv2\n",
            "import numpy as np\n",
            "from openvino.inference_engine import IENetwork, IECore\n",
            "ie = IECore()\n",
            "net = IENetwork(model='/content/public/mobilenet-v1-1.0-224/FP16/mobilenet-v1-1.0-224.xml', weights='/content/public/mobilenet-v1-1.0-224/FP16/mobilenet-v1-1.0-224.bin')\n",
            "input_blob = next(iter(net.inputs))\n",
            "out_blob = next(iter(net.outputs))\n",
            "batch,channel,height,width  = net.inputs[input_blob].shape\n",
            "image = cv2.imread('/opt/intel/openvino/deployment_tools/demo/car.png')\n",
            "#cv2.imshow(input, image)\n",
            "image = cv2.resize(image, (width, height))\n",
            "image = image.transpose((2, 0, 1))  # Change data layout from HWC to CHW\n",
            "exec_net = ie.load_network(network=net, device_name='CPU')\n",
            "res = exec_net.infer(inputs={input_blob: image})\n",
            "idx = np.argsort(np.squeeze(res[out_blob][0]))[::-1]\n",
            "for i in range(5):\n",
            " print(idx[i]+1, res[out_blob][0][idx[i]])\n"
          ],
          "name": "stdout"
        }
      ]
    },
    {
      "cell_type": "code",
      "metadata": {
        "id": "mgHMBC5-0Zk2",
        "colab_type": "code",
        "colab": {
          "base_uri": "https://localhost:8080/",
          "height": 211
        },
        "outputId": "d0018aa6-d5df-4d5a-804d-34c7081c1427"
      },
      "source": [
        "# 執行環境設定批次檔並執行影像分類\n",
        "# 輸出結果 第818類（即car, sport car) 置信度（機率） 0.4242041\n",
        "!source /opt/intel/openvino/bin/setupvars.sh && \\\n",
        "python /content/quickstart.py"
      ],
      "execution_count": 16,
      "outputs": [
        {
          "output_type": "stream",
          "text": [
            "[setupvars.sh] OpenVINO environment initialized\n",
            "/content/quickstart.py:5: DeprecationWarning: Reading network using constructor is deprecated. Please, use IECore.read_network() method instead\n",
            "  net = IENetwork(model='/content/public/mobilenet-v1-1.0-224/FP16/mobilenet-v1-1.0-224.xml', weights='/content/public/mobilenet-v1-1.0-224/FP16/mobilenet-v1-1.0-224.bin')\n",
            "/content/quickstart.py:6: DeprecationWarning: 'inputs' property of IENetwork class is deprecated. To access DataPtrs user need to use 'input_data' property of InputInfoPtr objects which can be accessed by 'input_info' property.\n",
            "  input_blob = next(iter(net.inputs))\n",
            "818 [[0.42420408]]\n",
            "512 [[0.27280593]]\n",
            "480 [[0.13300343]]\n",
            "437 [[0.0699498]]\n",
            "752 [[0.03396042]]\n"
          ],
          "name": "stdout"
        }
      ]
    }
  ]
}